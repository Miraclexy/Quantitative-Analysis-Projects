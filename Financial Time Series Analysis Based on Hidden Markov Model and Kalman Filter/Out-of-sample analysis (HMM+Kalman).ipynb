{
 "cells": [
  {
   "cell_type": "code",
   "execution_count": 5,
   "metadata": {},
   "outputs": [],
   "source": [
    "from pykalman import KalmanFilter\n",
    "import numpy as np\n",
    "import pandas as pd\n",
    "from scipy import poly1d\n",
    "import matplotlib.pyplot as plt\n",
    "from hmmlearn.hmm import GaussianHMM\n",
    "import datetime\n",
    "from scipy import stats\n",
    "from sklearn import preprocessing\n",
    "import math\n",
    "import heapq\n",
    "import warnings\n",
    "warnings.filterwarnings('ignore')"
   ]
  },
  {
   "cell_type": "code",
   "execution_count": 6,
   "metadata": {},
   "outputs": [],
   "source": [
    "# data is the SSE 50 index\n",
    "data = get_price('000016.XSHG',start_date='2008-03-17',end_date='2019-03-17',frequency='daily')\n",
    "Close1 = data['close']\n",
    "High1 = data['high']\n",
    "Low1 = data['low']\n",
    "Volume1 = data['volume']\n",
    "# use Kalman Filter to compute the adjusted data\n",
    "#Close\n",
    "KF1 = KalmanFilter(transition_matrices=[1],\n",
    "                 observation_matrices=[1],\n",
    "                 initial_state_mean=Close1[0],\n",
    "                  initial_state_covariance=1,\n",
    "                  observation_covariance=1,\n",
    "                  transition_covariance=0.01)\n",
    "close_means,_ = KF1.filter(Close1)\n",
    "\n",
    "Date = pd.to_datetime(data.index)\n",
    "close_means = pd.DataFrame({'Date':Date,'close_means':pd.DataFrame(close_means)[0]}).set_index('Date')\n",
    "#High\n",
    "KF2 = KalmanFilter(transition_matrices=[1],\n",
    "                 observation_matrices=[1],\n",
    "                 initial_state_mean=High1[0],\n",
    "                  initial_state_covariance=1,\n",
    "                  observation_covariance=1,\n",
    "                  transition_covariance=0.01)\n",
    "high_means,_ = KF2.filter(High1)\n",
    "\n",
    "high_means = pd.DataFrame({'Date':Date,'high_means':pd.DataFrame(high_means)[0]}).set_index('Date')\n",
    "#Low\n",
    "KF3 = KalmanFilter(transition_matrices=[1],\n",
    "                 observation_matrices=[1],\n",
    "                 initial_state_mean=Low1[0],\n",
    "                  initial_state_covariance=1,\n",
    "                  observation_covariance=1,\n",
    "                  transition_covariance=0.01)\n",
    "low_means,_ = KF3.filter(Low1)\n",
    "\n",
    "low_means = pd.DataFrame({'Date':Date,'low_means':pd.DataFrame(low_means)[0]}).set_index('Date')\n",
    "#Volume\n",
    "KF4 = KalmanFilter(transition_matrices=[1],\n",
    "                 observation_matrices=[1],\n",
    "                 initial_state_mean=Volume1[0],\n",
    "                  initial_state_covariance=1,\n",
    "                  observation_covariance=1,\n",
    "                  transition_covariance=0.01)\n",
    "volume_means,_ = KF4.filter(Volume1)\n",
    "\n",
    "volume_means = pd.DataFrame({'Date':Date,'volume_means':pd.DataFrame(volume_means)[0]}).set_index('Date')\n",
    "# calculate characteristic variables\n",
    "logdif = np.log(np.array(high_means['high_means']))-np.log(np.array(low_means['low_means']))\n",
    "logret5 = np.log(np.array(close_means['close_means'][5:]))-np.log(np.array(close_means['close_means'][:-5]))\n",
    "logvoldif5 = np.log(np.array(volume_means['volume_means'][5:]))-np.log(np.array(volume_means['volume_means'][:-5]))\n",
    "logdif = logdif[5:]\n",
    "close = data['close'][5:]\n",
    "Date = pd.to_datetime(data.index[5:])\n",
    "# Box-Cox transformation and stardardization\n",
    "bc_logdif,_ = stats.boxcox(logdif)\n",
    "scale_bc_logdif = preprocessing.scale(bc_logdif,axis=0,with_mean=True,with_std=True,copy=False)\n",
    "scale_logret5 = preprocessing.scale(logret5,axis=0,with_mean=True,with_std=True,copy=False)\n",
    "scale_logvoldif5 = preprocessing.scale(logvoldif5,axis=0,with_mean=True,with_std=True,copy=False)\n",
    "# compute inpute variable scaleA\n",
    "scaleA = np.column_stack([scale_bc_logdif,scale_logret5,scale_logvoldif5])"
   ]
  },
  {
   "cell_type": "code",
   "execution_count": 12,
   "metadata": {},
   "outputs": [
    {
     "name": "stdout",
     "output_type": "stream",
     "text": [
      "---------------------------------------\n"
     ]
    }
   ],
   "source": [
    "index = 0\n",
    "# set data from 2008-03-17 to 2018-03-17 be the training data\n",
    "T = len((get_price('000016.XSHG',start_date='2008-03-17',end_date='2018-03-17',frequency='daily'))[5:])\n",
    "long_num = 0\n",
    "ret = 1\n",
    "long_win = 0\n",
    "short_num = 0\n",
    "short_win = 0\n",
    "cumret = []\n",
    "while index+T<=int(len(scaleA)-1):\n",
    "    HMMmodel = GaussianHMM(n_components=4,covariance_type='full',n_iter=2000).fit(scaleA[index:index+T])\n",
    "    history_info = []\n",
    "    hidden_states = HMMmodel.predict(scaleA[index:index+T])\n",
    "    for i in range(index,index+T):       \n",
    "        score = HMMmodel.score(scaleA[i:i+1])\n",
    "        day_tuple = (i,hidden_states[i-index],score)\n",
    "        history_info.append(day_tuple)\n",
    "    \n",
    "    last_hidden_states = history_info[-1][1]\n",
    "    last_score = history_info[-1][2]\n",
    "    \n",
    "    same_states = []\n",
    "    for (x,y,z) in history_info[:-1]:\n",
    "        if y==last_hidden_states:\n",
    "            diff = abs(z-last_score)\n",
    "            same_states.append((x,diff))\n",
    "     \n",
    "    pos_diffs = heapq.nsmallest(30,same_states,key=lambda s:s[1]) # find 30 days with the smallest likelyhood value\n",
    "    weights = []\n",
    "    returns = []\n",
    "    sum_diffs = sum(1/x[1] for x in pos_diffs)\n",
    "    for (x,y) in pos_diffs:\n",
    "        weights.append(1/y/sum_diffs)\n",
    "        returns.append(close[x+1]/close[x]-1)\n",
    "    weights = np.array(weights)\n",
    "    returns = np.array(returns)\n",
    "    weighted_score = np.dot(weights,returns.T)\n",
    "    real_return = close[index+T]/close[index+T-1]-1\n",
    "    \n",
    "    if weighted_score>0:\n",
    "        long_num += 1\n",
    "        ret *=(1+real_return)\n",
    "        if close[index+T]>close[index+T-1]:\n",
    "            long_win += 1\n",
    "    elif weighted_score<0:\n",
    "        short_num += 1\n",
    "        ret /=(1+real_return)\n",
    "        if close[index+T]<close[index+T-1]:\n",
    "            short_win += 1\n",
    "    else:\n",
    "        pass\n",
    "    cumret.append(ret)\n",
    "    index += 1\n",
    "    \n",
    "print('---------------------------------------')\n",
    "        \n",
    "        "
   ]
  },
  {
   "cell_type": "code",
   "execution_count": 19,
   "metadata": {},
   "outputs": [],
   "source": [
    "cumreturns = pd.DataFrame({'Date':Date[T-1:-1],'cumreturns':cumret}).set_index('Date')"
   ]
  },
  {
   "cell_type": "code",
   "execution_count": 25,
   "metadata": {},
   "outputs": [
    {
     "name": "stdout",
     "output_type": "stream",
     "text": [
      "多头胜率：52.42%\n",
      "空头胜率：55.08%\n"
     ]
    },
    {
     "data": {
      "image/png": "[encoded data removed]",
      "text/plain": [
       "<Figure size 432x288 with 1 Axes>"
      ]
     },
     "metadata": {
      "needs_background": "light"
     },
     "output_type": "display_data"
    }
   ],
   "source": [
    "# plot cumulative return\n",
    "# compute victory ratio in both long and short position\n",
    "plt.plot(cumreturns,label='cumulative returns')\n",
    "plt.legend(loc='upper left')\n",
    "print('多头胜率：'+ str(round(100*long_win/long_num,2))+'%')\n",
    "print('空头胜率：'+ str(round(100*short_win/short_num,2))+'%')"
   ]
  }
 ],
 "metadata": {
  "kernelspec": {
   "display_name": "Python 3",
   "language": "python",
   "name": "python3"
  },
  "language_info": {
   "codemirror_mode": {
    "name": "ipython",
    "version": 3
   },
   "file_extension": ".py",
   "mimetype": "text/x-python",
   "name": "python",
   "nbconvert_exporter": "python",
   "pygments_lexer": "ipython3",
   "version": "3.7.3"
  }
 },
 "nbformat": 4,
 "nbformat_minor": 2
}
