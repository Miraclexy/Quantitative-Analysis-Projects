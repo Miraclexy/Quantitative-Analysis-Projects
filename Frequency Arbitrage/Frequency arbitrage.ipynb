{
 "cells": [
  {
   "cell_type": "markdown",
   "metadata": {},
   "source": [
    "## Frequency Arbitrage"
   ]
  },
  {
   "cell_type": "markdown",
   "metadata": {},
   "source": [
    "![title](Frequency_Arbitrage.png)"
   ]
  },
  {
   "cell_type": "code",
   "execution_count": 116,
   "metadata": {},
   "outputs": [],
   "source": [
    "from IPython.core.interactiveshell import InteractiveShell\n",
    "InteractiveShell.ast_node_interactivity = \"all\" \n",
    "\n",
    "import pandas as pd\n",
    "import matplotlib.pyplot as plt\n",
    "import numpy as np\n",
    "import pandas_datareader.data as web\n",
    "\n",
    "%matplotlib inline\n",
    "import warnings\n",
    "warnings.filterwarnings('ignore')"
   ]
  },
  {
   "cell_type": "code",
   "execution_count": 117,
   "metadata": {},
   "outputs": [],
   "source": [
    "SPX = web.DataReader(name='^GSPC',data_source='yahoo',start='2000-01-01')"
   ]
  },
  {
   "cell_type": "code",
   "execution_count": 118,
   "metadata": {},
   "outputs": [
    {
     "name": "stdout",
     "output_type": "stream",
     "text": [
      "<class 'pandas.core.frame.DataFrame'>\n",
      "DatetimeIndex: 5071 entries, 2000-01-03 to 2020-02-28\n",
      "Data columns (total 6 columns):\n",
      "High         5071 non-null float64\n",
      "Low          5071 non-null float64\n",
      "Open         5071 non-null float64\n",
      "Close        5071 non-null float64\n",
      "Volume       5071 non-null int64\n",
      "Adj Close    5071 non-null float64\n",
      "dtypes: float64(5), int64(1)\n",
      "memory usage: 277.3 KB\n"
     ]
    }
   ],
   "source": [
    "SPX.info()"
   ]
  },
  {
   "cell_type": "code",
   "execution_count": 119,
   "metadata": {},
   "outputs": [],
   "source": [
    "SPX = SPX[['Adj Close']]"
   ]
  },
  {
   "cell_type": "markdown",
   "metadata": {},
   "source": [
    "### Main idea"
   ]
  },
  {
   "cell_type": "markdown",
   "metadata": {},
   "source": [
    "For the daily volatility / weekly volatility arbitrage (also with the pattern that weekly historical volatility < daily historical volatility):\n",
    "\n",
    "Assume that $S_{t}$ follows the following SDE:\n",
    "\n",
    "$\\frac {dS}{S} = \\mu_{t} dt + \\sigma_{t}dW_{1,t}$\n",
    "\n",
    "By Ito's lemma,\n",
    "\n",
    "$dlnS_{t} = \\frac {dS}{S} - \\frac{\\sigma^{2}_{t}}{2}dt$\n",
    "\n",
    "Integrate between $T_{1}$ and $T_{2}$,\n",
    "\n",
    "$lnS_{T_{2}} - lnS_{T_{1}} = \\int_{T_{1}}^{T_{2}}\\frac {dS}{S} - \\frac{1}{2}\\int_{T_{1}}^{T_{2}}\\sigma^2_{t}dt$\n",
    "\n",
    "The stochastic integral $\\int_{T_{1}}^{T_{2}}\\frac {dS}{S}$ can be interpreted as holding $\\frac{1}{S_{t}}$ share of risky asset $S$ between time $T_{1}$ and time $T_{2}$. \n",
    "\n",
    "And the second term on the right hand side is (half of) the cumulative instantaneous variance of the spot return between $T_{1}$ and $T_{2}$.\n",
    "\n",
    "So similarly, following an intra-week mean reversion strategy, since we fix our money for investment to be $alpha$ dollars, in the beginning of the week our position is $\\frac{\\alpha}{S_{t_{i,1}}}$. And in the j-th day of the i-th week, our position is $\\frac{\\alpha}{S_{t_{i,j}}}$.\n",
    "\n",
    "So the exposure of each day should be $\\alpha(\\frac{1}{S_{t_{i,1}}} - \\frac{1}{S_{t_{i,j}}})$"
   ]
  },
  {
   "cell_type": "markdown",
   "metadata": {},
   "source": [
    "### Demonstration"
   ]
  },
  {
   "cell_type": "markdown",
   "metadata": {},
   "source": [
    "![title](demonstrate.png)"
   ]
  },
  {
   "cell_type": "markdown",
   "metadata": {},
   "source": [
    "### Daily"
   ]
  },
  {
   "cell_type": "code",
   "execution_count": 121,
   "metadata": {},
   "outputs": [],
   "source": [
    "SPX['log_return'] = np.log(SPX['Adj Close']).shift(-1) - np.log(SPX['Adj Close'])\n",
    "SPX['delta'] = -1/SPX['Adj Close']\n",
    "\n",
    "SPX['delta_exposure'] = SPX['delta'].diff()\n",
    "SPX['cost'] = SPX['Adj Close'] * SPX['delta_exposure']"
   ]
  },
  {
   "cell_type": "markdown",
   "metadata": {},
   "source": [
    "### weekly"
   ]
  },
  {
   "cell_type": "code",
   "execution_count": 122,
   "metadata": {},
   "outputs": [],
   "source": [
    "SPX_weekly = SPX[['Adj Close']].copy()\n",
    "SPX_weekly = SPX_weekly.resample('w').last()"
   ]
  },
  {
   "cell_type": "code",
   "execution_count": 123,
   "metadata": {},
   "outputs": [],
   "source": [
    "SPX_weekly['log_return'] = np.log(SPX_weekly['Adj Close']).shift(-1) - np.log(SPX_weekly['Adj Close'])\n",
    "SPX_weekly['delta'] = 1/SPX_weekly['Adj Close']\n",
    "\n",
    "SPX_weekly['delta_exposure'] = SPX_weekly['delta'].diff()\n",
    "SPX_weekly['cost'] = SPX_weekly['Adj Close'] * SPX_weekly['delta_exposure']"
   ]
  },
  {
   "cell_type": "markdown",
   "metadata": {},
   "source": [
    "### Strategy"
   ]
  },
  {
   "cell_type": "code",
   "execution_count": 124,
   "metadata": {},
   "outputs": [],
   "source": [
    "initial_account = 1000\n",
    "cost = initial_account * (SPX['cost'].resample('w').sum() + SPX_weekly['cost'])[1:]"
   ]
  },
  {
   "cell_type": "code",
   "execution_count": 125,
   "metadata": {},
   "outputs": [],
   "source": [
    "cum_ret = cost.cumsum()"
   ]
  },
  {
   "cell_type": "code",
   "execution_count": 126,
   "metadata": {
    "scrolled": true
   },
   "outputs": [
    {
     "data": {
      "image/png": "[encoded data removed]",
      "text/plain": [
       "<Figure size 432x288 with 1 Axes>"
      ]
     },
     "metadata": {
      "needs_background": "light"
     },
     "output_type": "display_data"
    }
   ],
   "source": [
    "_ = cum_ret.plot(title='cumulative returns (2000-2020)')"
   ]
  },
  {
   "cell_type": "markdown",
   "metadata": {},
   "source": [
    "Try a different way to compute cumulative returns to test the result."
   ]
  },
  {
   "cell_type": "code",
   "execution_count": 127,
   "metadata": {},
   "outputs": [
    {
     "data": {
      "image/png": "[encoded data removed]",
      "text/plain": [
       "<Figure size 432x288 with 1 Axes>"
      ]
     },
     "metadata": {
      "needs_background": "light"
     },
     "output_type": "display_data"
    }
   ],
   "source": [
    "_ = (1+((SPX['log_return'].shift(1)*SPX['delta']).resample('w').sum())+ \\\n",
    "     (SPX_weekly['log_return'].shift(1)*SPX_weekly['delta'])).cumprod().plot(title = 'cumulative returns')"
   ]
  },
  {
   "cell_type": "code",
   "execution_count": 128,
   "metadata": {},
   "outputs": [
    {
     "name": "stdout",
     "output_type": "stream",
     "text": [
      "Done !\n"
     ]
    }
   ],
   "source": [
    "print('Done !')"
   ]
  }
 ],
 "metadata": {
  "kernelspec": {
   "display_name": "Python 3",
   "language": "python",
   "name": "python3"
  },
  "language_info": {
   "codemirror_mode": {
    "name": "ipython",
    "version": 3
   },
   "file_extension": ".py",
   "mimetype": "text/x-python",
   "name": "python",
   "nbconvert_exporter": "python",
   "pygments_lexer": "ipython3",
   "version": "3.7.4"
  }
 },
 "nbformat": 4,
 "nbformat_minor": 2
}
