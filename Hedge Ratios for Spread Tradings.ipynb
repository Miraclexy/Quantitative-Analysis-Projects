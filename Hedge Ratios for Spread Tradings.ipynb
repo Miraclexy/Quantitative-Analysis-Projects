{
 "cells": [
  {
   "cell_type": "markdown",
   "metadata": {},
   "source": [
    "consider two regressions with opposite dependent variable and independent variable:\n",
    "\n",
    "$$\n",
    "\\begin{align}\n",
    "y = \\alpha_{y}+\\beta_{y}x+\\epsilon_{y} \\tag{1}\\\\\n",
    "x = \\alpha_{x}+\\beta_{x}y+\\epsilon_{x} \\tag{2}\\\\\n",
    "\\end{align}\n",
    "$$\n",
    "\n",
    "If both of the equations hold, we can get that $\\beta_{x}\\beta_{y} = 1$, $\\alpha_{y} = -\\alpha_{x}\\beta_{y}$.\n",
    "We also have\n",
    "\n",
    "$$\n",
    "\\begin{align}\n",
    "E(y) = \\alpha_{y}+\\beta_{y}E(x) \\tag{1}\\\\\n",
    "E(x) = \\alpha_{x}+\\beta_{x}E(y) \\tag{2}\\\\\n",
    "\\end{align}\n",
    "$$\n",
    "\n",
    "then \n",
    "\n",
    "$E(y)= \\alpha_{y}+\\beta_{y}(\\alpha_{x}+\\beta_{x}E(y))$\n",
    "\n",
    "$E(y)(1-\\beta_{x}\\beta_{y}) = \\alpha_{y}+\\beta_{y}\\alpha_{x}$\n",
    "\n",
    "So, if we want this equation always be true, we have\n",
    "\n",
    "$$\n",
    "\\begin{align}\n",
    "\\alpha_{y} = \\alpha_{x} = 0 \\tag{1}\\\\\n",
    "\\beta_{x}\\beta_{y} = 1 \\tag{2}\\\\\n",
    "\\end{align}\n",
    "$$\n",
    "\n",
    "Only if $\\alpha_{y} = \\alpha_{x} = 0$, $\\beta_{y}\\beta_{x} = 1$, but that not always happens.\n",
    "\n",
    "Let's find out what $\\beta_{y}\\beta_{x}$ exactly is:\n",
    "\n",
    "$$\n",
    "\\begin{align}\n",
    "y - E(y) = \\beta_{y}(x-E(x)) + \\epsilon_{y} \\tag{1}\\\\\n",
    "x - E(x) = \\beta_{x}(y-E(y)) + \\epsilon_{x} \\tag{2}\\\\\n",
    "\\end{align}\n",
    "$$\n",
    "\n",
    "then, $(y-E(y))(x-E(x))  \\\\ =  [\\beta_{y}(x-E(x)) + \\epsilon_{y}][\\beta_{x}(y-E(y)) + \\epsilon_{x}]\n",
    "\\\\ = \\beta_{y}\\beta{x}(x-E(x))(y-E(y)) + \\beta_{y}\\epsilon_{x}(x-E(x)) + \\beta_{x}\\epsilon_{y}(y-E(y)) + \\epsilon_{x}\\epsilon_{y}$\n",
    "\n",
    "do expectation on both sides:\n",
    "\n",
    "$E(x-E(x))(y-E(y)) \\\\ = E{(x-E(x))[\\beta_{y}(x-E(x)) + \\epsilon_{y}]}  \\\\ = E[\\beta_{y}(x-E(x))^2 + (x-E(x))\\epsilon_{y}] \\\\ = \\beta_{y}\\sigma_{x}^2$\n",
    "\n",
    "$cov(x,y) = \\rho_{xy}\\sigma_{x}\\sigma_{y} = \\beta_{y}\\sigma_{x}^2 = \\beta_{x}\\sigma_{y}^2$\n",
    "\n",
    "$R_{y}^2 = 1 - \\frac{\\sigma_{x}^2}{\\sigma_{\\epsilon_{y}}^2}$, $R_{x}^2 = 1 - \\frac{\\sigma_{y}^2}{\\epsilon_{x}^2}$\n",
    "\n",
    "**Finally we can get $\\beta_{y}\\beta_{x} = R^2$.**"
   ]
  },
  {
   "cell_type": "markdown",
   "metadata": {},
   "source": [
    "When we trade a spread, we long one stock and short another. If we use OLS regression on the two stocks and calculate the hedge ratio $\\beta$, this hedge ratio is not constant ($\\beta_{1}$ is not equal to $\\frac{1}{\\beta_{2}}$) when we switch the independent variable and dependent variable. \n",
    "\n",
    "The OLS fit is not symmetrical because of a critical mathematical assumption behind the OLS algorithm; namely, that Y is a random variable and the sole source of variance, and that the X values are fi􏱱xed constants with zero variance. However, in a trading strategy, that is not good. We want the algorithm treat the two stocks symmetrically.\n",
    "\n",
    "As a result, we can use TLS(total least square) instead of OLS, which treats X and Y symmetrically.\n",
    "\n",
    "In practice, we can use PCA since PCA uses vertical distance between dots and regression line."
   ]
  },
  {
   "cell_type": "code",
   "execution_count": 69,
   "metadata": {},
   "outputs": [],
   "source": [
    "from IPython.core.interactiveshell import InteractiveShell\n",
    "InteractiveShell.ast_node_interactivity = 'all'\n",
    "import pandas as pd\n",
    "import numpy as np\n",
    "import pandas_datareader.data as web\n",
    "from sklearn.linear_model import LinearRegression"
   ]
  },
  {
   "cell_type": "code",
   "execution_count": 70,
   "metadata": {},
   "outputs": [],
   "source": [
    "# the first pair\n",
    "AAPL = web.DataReader(name='AAPL',data_source='yahoo',start='2010-01-01')\n",
    "GOOG = web.DataReader(name='GOOG',data_source='yahoo',start='2010-01-01')\n",
    "# the second pair\n",
    "IBM = web.DataReader(name='IBM',data_source='yahoo',start='2010-01-01')\n",
    "SPY = web.DataReader(name='SPY',data_source='yahoo',start='2010-01-01')\n",
    "# the third pair\n",
    "DIA = web.DataReader(name='DIA',data_source='yahoo',start='2010-01-01')\n",
    "# SPY"
   ]
  },
  {
   "cell_type": "markdown",
   "metadata": {},
   "source": [
    "### AAPL & GOOG"
   ]
  },
  {
   "cell_type": "markdown",
   "metadata": {},
   "source": [
    "#### OLS"
   ]
  },
  {
   "cell_type": "code",
   "execution_count": 71,
   "metadata": {},
   "outputs": [
    {
     "name": "stdout",
     "output_type": "stream",
     "text": [
      "When AAPL is independent variable, beta = 5.139\n",
      "When GOOG is independent variable, beta = 0.1759\n",
      "beta1 * beta2 = 0.9\n"
     ]
    }
   ],
   "source": [
    "def test_ols(data1,data2,name1,name2):    \n",
    "    data1 = data1[['Adj Close']]\n",
    "    data2 = data2[['Adj Close']]\n",
    "    res11 = LinearRegression().fit(data1,data2)\n",
    "    res12 = LinearRegression().fit(data2,data1)\n",
    "    print('When '+ name1 +' is independent variable, beta = {:.4}'.format(res11.coef_[0][0]))\n",
    "    print('When '+ name2 +' is independent variable, beta = {:.4}'.format(res12.coef_[0][0]))\n",
    "    print('beta1 * beta2 = {:.2}'.format(res11.coef_[0][0] * res12.coef_[0][0]))\n",
    "    \n",
    "test_ols(AAPL,GOOG,'AAPL','GOOG')"
   ]
  },
  {
   "cell_type": "markdown",
   "metadata": {},
   "source": [
    "#### TLS"
   ]
  },
  {
   "cell_type": "code",
   "execution_count": 72,
   "metadata": {},
   "outputs": [
    {
     "name": "stdout",
     "output_type": "stream",
     "text": [
      "When AAPL is independent variable, beta = 5.668\n",
      "When GOOG is independent variable, beta = 0.1764\n",
      "beta1 * beta2 = 1.0\n"
     ]
    }
   ],
   "source": [
    "def test_tls(data1,data2,name1,name2): \n",
    "    data1 = data1[['Adj Close']]\n",
    "    data2 = data2[['Adj Close']]\n",
    "    pca = PCA(n_components = 2)\n",
    "    _ = pca.fit(pd.concat([data1,data2],axis=1))\n",
    "    loadings = pca.components_ * np.sqrt(pca.explained_variance_)\n",
    "\n",
    "    pca2 = PCA(n_components = 2)\n",
    "    _ = pca2.fit(pd.concat([data2,data1],axis=1))\n",
    "    loadings2 = pca2.components_ * np.sqrt(pca2.explained_variance_)\n",
    "    print('When ' + name1 + ' is independent variable, beta = {:.4}'.format(-loadings2[0][0] / loadings2[1][0]))\n",
    "    print('When ' + name2 + ' is independent variable, beta = {:.4}'.format(loadings[0][0] / loadings[1][0]))\n",
    "    print('beta1 * beta2 = {:.2}'.format(loadings[0][0] / -loadings[1][0] * loadings2[0][0] / loadings2[1][0]))\n",
    "    \n",
    "test_tls(AAPL,GOOG,'AAPL','GOOG')"
   ]
  },
  {
   "cell_type": "markdown",
   "metadata": {},
   "source": [
    "### IBM & SPY"
   ]
  },
  {
   "cell_type": "code",
   "execution_count": 73,
   "metadata": {},
   "outputs": [
    {
     "name": "stdout",
     "output_type": "stream",
     "text": [
      "OLS : \n",
      "When IBM is independent variable, beta = 0.8462\n",
      "When SPY is independent variable, beta = 0.05505\n",
      "beta1 * beta2 = 0.047\n",
      "===============================================\n",
      "TLS : \n",
      "When IBM is independent variable, beta = -17.04\n",
      "When SPY is independent variable, beta = -0.05868\n",
      "beta1 * beta2 = 1.0\n"
     ]
    }
   ],
   "source": [
    "print('OLS : ')\n",
    "test_ols(IBM,SPY,'IBM','SPY')\n",
    "print('===============================================')\n",
    "print('TLS : ')\n",
    "test_tls(IBM,SPY,'IBM','SPY')"
   ]
  },
  {
   "cell_type": "markdown",
   "metadata": {},
   "source": [
    "### DIA & SPY"
   ]
  },
  {
   "cell_type": "code",
   "execution_count": 74,
   "metadata": {},
   "outputs": [
    {
     "name": "stdout",
     "output_type": "stream",
     "text": [
      "OLS : \n",
      "When DIA is independent variable, beta = 1.117\n",
      "When SPY is independent variable, beta = 0.8875\n",
      "beta1 * beta2 = 0.99\n",
      "===============================================\n",
      "TLS : \n",
      "When DIA is independent variable, beta = 1.122\n",
      "When SPY is independent variable, beta = 0.8911\n",
      "beta1 * beta2 = 1.0\n"
     ]
    }
   ],
   "source": [
    "print('OLS : ')\n",
    "test_ols(DIA,SPY,'DIA','SPY')\n",
    "print('===============================================')\n",
    "print('TLS : ')\n",
    "test_tls(DIA,SPY,'DIA','SPY')"
   ]
  },
  {
   "cell_type": "code",
   "execution_count": 75,
   "metadata": {},
   "outputs": [
    {
     "name": "stdout",
     "output_type": "stream",
     "text": [
      "Done !\n"
     ]
    }
   ],
   "source": [
    "print('Done !')"
   ]
  },
  {
   "cell_type": "code",
   "execution_count": null,
   "metadata": {},
   "outputs": [],
   "source": []
  }
 ],
 "metadata": {
  "kernelspec": {
   "display_name": "Python 3",
   "language": "python",
   "name": "python3"
  },
  "language_info": {
   "codemirror_mode": {
    "name": "ipython",
    "version": 3
   },
   "file_extension": ".py",
   "mimetype": "text/x-python",
   "name": "python",
   "nbconvert_exporter": "python",
   "pygments_lexer": "ipython3",
   "version": "3.7.4"
  }
 },
 "nbformat": 4,
 "nbformat_minor": 2
}
