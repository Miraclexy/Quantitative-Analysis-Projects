{
 "cells": [
  {
   "cell_type": "code",
   "execution_count": 1,
   "metadata": {},
   "outputs": [],
   "source": [
    "from IPython.core.interactiveshell import InteractiveShell\n",
    "InteractiveShell.ast_node_interactivity = 'all'\n",
    "import warnings\n",
    "warnings.filterwarnings('ignore')\n",
    "import pandas as pd\n",
    "import numpy as np\n",
    "import matplotlib.pyplot as plt\n",
    "import seaborn as sns\n",
    "import pandas_datareader.data as web\n",
    "from tpot import TPOTClassifier\n",
    "from sklearn.model_selection import train_test_split\n",
    "from sklearn.naive_bayes import GaussianNB\n",
    "from sklearn.neighbors import KNeighborsClassifier\n",
    "from sklearn.pipeline import make_pipeline, make_union\n",
    "from tpot.builtins import StackingEstimator\n",
    "from sklearn.impute import SimpleImputer\n",
    "from tpot.export_utils import set_param_recursive\n",
    "from tpot.builtins import ZeroCount\n",
    "from sklearn.tree import DecisionTreeClassifier"
   ]
  },
  {
   "cell_type": "code",
   "execution_count": null,
   "metadata": {},
   "outputs": [],
   "source": [
    "random_state = 42"
   ]
  },
  {
   "cell_type": "markdown",
   "metadata": {},
   "source": [
    "## 1. Data Prepare"
   ]
  },
  {
   "cell_type": "markdown",
   "metadata": {},
   "source": [
    "use S&P 500 index from 2010-01-01 to 2020-01-01 to be whole dataset."
   ]
  },
  {
   "cell_type": "code",
   "execution_count": null,
   "metadata": {},
   "outputs": [],
   "source": [
    "SPX = web.DataReader(name='^GSPC',data_source='yahoo',start='2010-01-01',end='2020-01-01')"
   ]
  },
  {
   "cell_type": "code",
   "execution_count": null,
   "metadata": {},
   "outputs": [],
   "source": [
    "SPX.head()"
   ]
  },
  {
   "cell_type": "markdown",
   "metadata": {},
   "source": [
    "## 2. Feature Engineering"
   ]
  },
  {
   "cell_type": "code",
   "execution_count": 48,
   "metadata": {},
   "outputs": [],
   "source": [
    "def NR(data,k):\n",
    "    ''' NRk\n",
    "    range R[i] = High[i] - Low[i]\n",
    "    NRk exists if today's range is less than the ranges for the previous k-1 days:\n",
    "    R[0] < min(R[1], R[2], ... , R[k-1])\n",
    "    NRk days represent volatility contraction.\n",
    "    The greater the number of narrow range days, the greater the counter reaction in wide ranging days.\n",
    "    '''\n",
    "    data['R'] = data['High'] - data['Low']\n",
    "    for i in range(k,len(data)):\n",
    "        R = []\n",
    "        for j in range(i-k,i):\n",
    "            R.append(data.ix[j,'R'])\n",
    "        R.append(data.ix[i,'R'])\n",
    "        data.ix[i,'NR'] = sorted(R,reverse = True).index(data.ix[i,'R'])\n",
    "    return data"
   ]
  },
  {
   "cell_type": "code",
   "execution_count": 28,
   "metadata": {},
   "outputs": [],
   "source": [
    "def DOJI(data,rho):\n",
    "    ''' DOJI\n",
    "    DOJI indicates that the open and close for the trading day are within some small percentage(x) of each other.\n",
    "    A DOJI means the market reflects temporary price indecision and often signals a reversal.\n",
    "    define:\n",
    "        DOJI(x) = 1, when |O - C| <= x * (H - L); 0, otherwise\n",
    "    where rho in [0.05,0.3)\n",
    "    '''\n",
    "    temp = data.copy()\n",
    "    temp['x'] = (temp['Open'] - temp['Adj Close']) / temp['Adj Close']\n",
    "    temp['DOJI_new'] = np.nan\n",
    "    temp['DOJI_new'][(temp.x>=0) & (temp.x<=rho)] = 1 - temp.x/rho\n",
    "    temp['DOJI_new'][temp['DOJI_new'].isnull()] = 0\n",
    "    return temp['DOJI_new']"
   ]
  },
  {
   "cell_type": "code",
   "execution_count": 29,
   "metadata": {},
   "outputs": [],
   "source": [
    "def Hookday(data,delta = 0.5,kind = 'up'):\n",
    "    ''' Hookday\n",
    "    A hook day occurs when the price opens outside the previous day's range and then proceeds to reverse direction,\n",
    "    generally indicating a reaction to temporarily overbought or oversold market condition.\n",
    "    Up hook day:\n",
    "        O[-1] < L[0] - delta\n",
    "    Down hook day:\n",
    "        O[-1] > H[0] + delta\n",
    "    where delta is between [0,10]\n",
    "    '''\n",
    "    temp = data.copy()\n",
    "    if kind=='up':\n",
    "        temp['x'] = temp.Low - delta - temp.Open.shift(-1)\n",
    "    elif kind=='down':\n",
    "        temp['x'] = temp.Open.shift(-1) - temp.High - delta \n",
    "    temp['Hookday'] = np.nan\n",
    "    temp['Hookday'][temp.x<-0.5] = 0\n",
    "    temp['Hookday'][(temp.x>=-0.5) & (temp.x<0)] = 2 * (temp.x + 0.5)\n",
    "    temp['Hookday'][temp.x>=0] = 1\n",
    "    return temp['Hookday']"
   ]
  },
  {
   "cell_type": "markdown",
   "metadata": {},
   "source": [
    "## 3. Fuzzy Membership Functions"
   ]
  },
  {
   "cell_type": "markdown",
   "metadata": {},
   "source": [
    "Fuzzy membership functions transform a 'yes' or 'no' question into fuzzy answers somewhere between a 'yes' or 'no'.\n",
    "map days(D) onto the unit interval via a function $\\mu(D)$.\n",
    "It returns a value between 0 and 1 indicating to what degree features are present. Then, the fuzzy output variable is defuzzied to produce a crisp value on the unit interval, which the desirability of buying stock on the next trading day."
   ]
  },
  {
   "cell_type": "markdown",
   "metadata": {},
   "source": [
    "For NRk:\n",
    "\n",
    "$$\n",
    "\\mu_{k}(x)=\\begin{cases}\n",
    "    0,&x<v_{min} \\\\ c(x-v_{min}),&x \\in [v_{min},v_{max}) \\cr 1,&x>=v_{max}\n",
    "\\end{cases}\n",
    "$$"
   ]
  },
  {
   "cell_type": "markdown",
   "metadata": {},
   "source": [
    "Parameter values:\n",
    "\n",
    "| $k$ | $c$   | $v_{min}$ | $v_{max}$ |\n",
    "| :--:| :----:| :----:    | :--------:|\n",
    "| 4   | 1/2   | 2         | 4         |\n",
    "| 6   | 1/3   | 3         | 6         |\n",
    "| 7   | 1/3   | 4         | 7         |"
   ]
  },
  {
   "cell_type": "code",
   "execution_count": 30,
   "metadata": {},
   "outputs": [],
   "source": [
    "def memfun_NR(data,k,c,vmin,vmax):\n",
    "    temp = data.copy()\n",
    "    temp['R_tilda'] = temp['R'].rolling(window=k).max()\n",
    "    temp['x'] = temp['NR'] + (1 - temp.R/temp['R_tilda']) \n",
    "    temp['NR_new'] = np.nan\n",
    "    temp['NR_new'][temp.x<vmin] = 0\n",
    "    temp['NR_new'][(temp.x>=vmin) & (temp.x<vmax)] = c * (temp.x - vmin)\n",
    "    temp['NR_new'][temp.x>=vmax] = 1\n",
    "    return temp['NR_new']"
   ]
  },
  {
   "cell_type": "markdown",
   "metadata": {},
   "source": [
    "For DOJI:\n",
    "\n",
    "$$\n",
    "\\mu(x)=\\begin{cases}\n",
    "    1 - \\frac{x}{p}, &x \\in[0,p]  \\cr 0,&x \\in otherwise\n",
    "\\end{cases}\n",
    "$$"
   ]
  },
  {
   "cell_type": "markdown",
   "metadata": {},
   "source": [
    "For Hookday:\n",
    "\n",
    "$$\n",
    "\\mu(x)=\\begin{cases}\n",
    "    0,&x<1/2 \\\\ 2(x+0.5),&x \\in [-1/2,0) \\cr 1,&x>=0\n",
    "\\end{cases}\n",
    "$$"
   ]
  },
  {
   "cell_type": "markdown",
   "metadata": {},
   "source": [
    "Fuzzy membership function is inside the function of DOJI and Hookday."
   ]
  },
  {
   "cell_type": "markdown",
   "metadata": {},
   "source": [
    "## 4. Evolutionary Algorithm"
   ]
  },
  {
   "cell_type": "markdown",
   "metadata": {},
   "source": [
    "![title](theory.png)"
   ]
  },
  {
   "cell_type": "markdown",
   "metadata": {},
   "source": [
    "![title](theory2.png)"
   ]
  },
  {
   "cell_type": "code",
   "execution_count": 62,
   "metadata": {},
   "outputs": [],
   "source": [
    "inputdata = SPX.copy()\n",
    "inputdata['NR4'] = memfun_NR(NR(inputdata,4),4,0.5,2,4)\n",
    "inputdata['NR6'] = memfun_NR(NR(inputdata,6),6,1/3,3,6)\n",
    "inputdata['NR7'] = memfun_NR(NR(inputdata,7),7,1/3,4,7)\n",
    "\n",
    "inputdata['DOJI'] = DOJI(inputdata,0.1)\n",
    "\n",
    "inputdata['Hookday'] = Hookday(inputdata)"
   ]
  },
  {
   "cell_type": "code",
   "execution_count": 63,
   "metadata": {
    "scrolled": true
   },
   "outputs": [
    {
     "data": {
      "text/html": [
       "<div>\n",
       "<style scoped>\n",
       "    .dataframe tbody tr th:only-of-type {\n",
       "        vertical-align: middle;\n",
       "    }\n",
       "\n",
       "    .dataframe tbody tr th {\n",
       "        vertical-align: top;\n",
       "    }\n",
       "\n",
       "    .dataframe thead th {\n",
       "        text-align: right;\n",
       "    }\n",
       "</style>\n",
       "<table border=\"1\" class=\"dataframe\">\n",
       "  <thead>\n",
       "    <tr style=\"text-align: right;\">\n",
       "      <th></th>\n",
       "      <th>High</th>\n",
       "      <th>Low</th>\n",
       "      <th>Open</th>\n",
       "      <th>Close</th>\n",
       "      <th>Volume</th>\n",
       "      <th>Adj Close</th>\n",
       "      <th>R</th>\n",
       "      <th>NR</th>\n",
       "      <th>NR4</th>\n",
       "      <th>NR6</th>\n",
       "      <th>NR7</th>\n",
       "      <th>DOJI</th>\n",
       "      <th>Hookday</th>\n",
       "    </tr>\n",
       "    <tr>\n",
       "      <th>Date</th>\n",
       "      <th></th>\n",
       "      <th></th>\n",
       "      <th></th>\n",
       "      <th></th>\n",
       "      <th></th>\n",
       "      <th></th>\n",
       "      <th></th>\n",
       "      <th></th>\n",
       "      <th></th>\n",
       "      <th></th>\n",
       "      <th></th>\n",
       "      <th></th>\n",
       "      <th></th>\n",
       "    </tr>\n",
       "  </thead>\n",
       "  <tbody>\n",
       "    <tr>\n",
       "      <th>2010-01-04</th>\n",
       "      <td>1133.869995</td>\n",
       "      <td>1116.560059</td>\n",
       "      <td>1116.560059</td>\n",
       "      <td>1132.989990</td>\n",
       "      <td>3991400000</td>\n",
       "      <td>1132.989990</td>\n",
       "      <td>17.309937</td>\n",
       "      <td>NaN</td>\n",
       "      <td>NaN</td>\n",
       "      <td>NaN</td>\n",
       "      <td>NaN</td>\n",
       "      <td>0.0</td>\n",
       "      <td>0.0</td>\n",
       "    </tr>\n",
       "    <tr>\n",
       "      <th>2010-01-05</th>\n",
       "      <td>1136.630005</td>\n",
       "      <td>1129.660034</td>\n",
       "      <td>1132.660034</td>\n",
       "      <td>1136.520020</td>\n",
       "      <td>2491020000</td>\n",
       "      <td>1136.520020</td>\n",
       "      <td>6.969971</td>\n",
       "      <td>NaN</td>\n",
       "      <td>NaN</td>\n",
       "      <td>NaN</td>\n",
       "      <td>NaN</td>\n",
       "      <td>0.0</td>\n",
       "      <td>0.0</td>\n",
       "    </tr>\n",
       "    <tr>\n",
       "      <th>2010-01-06</th>\n",
       "      <td>1139.189941</td>\n",
       "      <td>1133.949951</td>\n",
       "      <td>1135.709961</td>\n",
       "      <td>1137.140015</td>\n",
       "      <td>4972660000</td>\n",
       "      <td>1137.140015</td>\n",
       "      <td>5.239990</td>\n",
       "      <td>NaN</td>\n",
       "      <td>NaN</td>\n",
       "      <td>NaN</td>\n",
       "      <td>NaN</td>\n",
       "      <td>0.0</td>\n",
       "      <td>0.0</td>\n",
       "    </tr>\n",
       "    <tr>\n",
       "      <th>2010-01-07</th>\n",
       "      <td>1142.459961</td>\n",
       "      <td>1131.319946</td>\n",
       "      <td>1136.270020</td>\n",
       "      <td>1141.689941</td>\n",
       "      <td>5270680000</td>\n",
       "      <td>1141.689941</td>\n",
       "      <td>11.140015</td>\n",
       "      <td>NaN</td>\n",
       "      <td>NaN</td>\n",
       "      <td>NaN</td>\n",
       "      <td>NaN</td>\n",
       "      <td>0.0</td>\n",
       "      <td>0.0</td>\n",
       "    </tr>\n",
       "    <tr>\n",
       "      <th>2010-01-08</th>\n",
       "      <td>1145.390015</td>\n",
       "      <td>1136.219971</td>\n",
       "      <td>1140.520020</td>\n",
       "      <td>1144.979980</td>\n",
       "      <td>4389590000</td>\n",
       "      <td>1144.979980</td>\n",
       "      <td>9.170044</td>\n",
       "      <td>2.0</td>\n",
       "      <td>0.088419</td>\n",
       "      <td>NaN</td>\n",
       "      <td>NaN</td>\n",
       "      <td>0.0</td>\n",
       "      <td>0.0</td>\n",
       "    </tr>\n",
       "  </tbody>\n",
       "</table>\n",
       "</div>"
      ],
      "text/plain": [
       "                   High          Low         Open        Close      Volume  \\\n",
       "Date                                                                         \n",
       "2010-01-04  1133.869995  1116.560059  1116.560059  1132.989990  3991400000   \n",
       "2010-01-05  1136.630005  1129.660034  1132.660034  1136.520020  2491020000   \n",
       "2010-01-06  1139.189941  1133.949951  1135.709961  1137.140015  4972660000   \n",
       "2010-01-07  1142.459961  1131.319946  1136.270020  1141.689941  5270680000   \n",
       "2010-01-08  1145.390015  1136.219971  1140.520020  1144.979980  4389590000   \n",
       "\n",
       "              Adj Close          R   NR       NR4  NR6  NR7  DOJI  Hookday  \n",
       "Date                                                                        \n",
       "2010-01-04  1132.989990  17.309937  NaN       NaN  NaN  NaN   0.0      0.0  \n",
       "2010-01-05  1136.520020   6.969971  NaN       NaN  NaN  NaN   0.0      0.0  \n",
       "2010-01-06  1137.140015   5.239990  NaN       NaN  NaN  NaN   0.0      0.0  \n",
       "2010-01-07  1141.689941  11.140015  NaN       NaN  NaN  NaN   0.0      0.0  \n",
       "2010-01-08  1144.979980   9.170044  2.0  0.088419  NaN  NaN   0.0      0.0  "
      ]
     },
     "execution_count": 63,
     "metadata": {},
     "output_type": "execute_result"
    }
   ],
   "source": [
    "inputdata.head()"
   ]
  },
  {
   "cell_type": "code",
   "execution_count": 64,
   "metadata": {},
   "outputs": [
    {
     "data": {
      "text/html": [
       "<div>\n",
       "<style scoped>\n",
       "    .dataframe tbody tr th:only-of-type {\n",
       "        vertical-align: middle;\n",
       "    }\n",
       "\n",
       "    .dataframe tbody tr th {\n",
       "        vertical-align: top;\n",
       "    }\n",
       "\n",
       "    .dataframe thead th {\n",
       "        text-align: right;\n",
       "    }\n",
       "</style>\n",
       "<table border=\"1\" class=\"dataframe\">\n",
       "  <thead>\n",
       "    <tr style=\"text-align: right;\">\n",
       "      <th></th>\n",
       "      <th>High</th>\n",
       "      <th>Low</th>\n",
       "      <th>Open</th>\n",
       "      <th>Close</th>\n",
       "      <th>Volume</th>\n",
       "      <th>Adj Close</th>\n",
       "      <th>R</th>\n",
       "      <th>NR</th>\n",
       "      <th>NR4</th>\n",
       "      <th>NR6</th>\n",
       "      <th>NR7</th>\n",
       "      <th>DOJI</th>\n",
       "      <th>Hookday</th>\n",
       "    </tr>\n",
       "  </thead>\n",
       "  <tbody>\n",
       "    <tr>\n",
       "      <th>count</th>\n",
       "      <td>2517.000000</td>\n",
       "      <td>2517.000000</td>\n",
       "      <td>2517.000000</td>\n",
       "      <td>2517.000000</td>\n",
       "      <td>2.517000e+03</td>\n",
       "      <td>2517.000000</td>\n",
       "      <td>2517.000000</td>\n",
       "      <td>2513.000000</td>\n",
       "      <td>2513.000000</td>\n",
       "      <td>2512.000000</td>\n",
       "      <td>2511.000000</td>\n",
       "      <td>2517.000000</td>\n",
       "      <td>2516.000000</td>\n",
       "    </tr>\n",
       "    <tr>\n",
       "      <th>mean</th>\n",
       "      <td>1971.857815</td>\n",
       "      <td>1952.710315</td>\n",
       "      <td>1962.657448</td>\n",
       "      <td>1963.123451</td>\n",
       "      <td>3.715144e+09</td>\n",
       "      <td>1963.123451</td>\n",
       "      <td>19.147500</td>\n",
       "      <td>3.523279</td>\n",
       "      <td>0.379875</td>\n",
       "      <td>0.359534</td>\n",
       "      <td>0.325428</td>\n",
       "      <td>0.429338</td>\n",
       "      <td>0.060922</td>\n",
       "    </tr>\n",
       "    <tr>\n",
       "      <th>std</th>\n",
       "      <td>590.630866</td>\n",
       "      <td>588.063705</td>\n",
       "      <td>589.469001</td>\n",
       "      <td>589.358946</td>\n",
       "      <td>8.132577e+08</td>\n",
       "      <td>589.358946</td>\n",
       "      <td>13.278299</td>\n",
       "      <td>2.346471</td>\n",
       "      <td>0.417266</td>\n",
       "      <td>0.405246</td>\n",
       "      <td>0.400751</td>\n",
       "      <td>0.470262</td>\n",
       "      <td>0.236023</td>\n",
       "    </tr>\n",
       "    <tr>\n",
       "      <th>min</th>\n",
       "      <td>1032.949951</td>\n",
       "      <td>1010.909973</td>\n",
       "      <td>1027.650024</td>\n",
       "      <td>1022.580017</td>\n",
       "      <td>1.025000e+09</td>\n",
       "      <td>1022.580017</td>\n",
       "      <td>3.680054</td>\n",
       "      <td>0.000000</td>\n",
       "      <td>0.000000</td>\n",
       "      <td>0.000000</td>\n",
       "      <td>0.000000</td>\n",
       "      <td>0.000000</td>\n",
       "      <td>0.000000</td>\n",
       "    </tr>\n",
       "    <tr>\n",
       "      <th>25%</th>\n",
       "      <td>1390.780029</td>\n",
       "      <td>1373.030029</td>\n",
       "      <td>1382.180054</td>\n",
       "      <td>1385.140015</td>\n",
       "      <td>3.237960e+09</td>\n",
       "      <td>1385.140015</td>\n",
       "      <td>10.799927</td>\n",
       "      <td>1.000000</td>\n",
       "      <td>0.000000</td>\n",
       "      <td>0.000000</td>\n",
       "      <td>0.000000</td>\n",
       "      <td>0.000000</td>\n",
       "      <td>0.000000</td>\n",
       "    </tr>\n",
       "    <tr>\n",
       "      <th>50%</th>\n",
       "      <td>1993.479980</td>\n",
       "      <td>1975.670044</td>\n",
       "      <td>1985.319946</td>\n",
       "      <td>1986.510010</td>\n",
       "      <td>3.587860e+09</td>\n",
       "      <td>1986.510010</td>\n",
       "      <td>15.510010</td>\n",
       "      <td>3.000000</td>\n",
       "      <td>0.144839</td>\n",
       "      <td>0.122601</td>\n",
       "      <td>0.000000</td>\n",
       "      <td>0.000000</td>\n",
       "      <td>0.000000</td>\n",
       "    </tr>\n",
       "    <tr>\n",
       "      <th>75%</th>\n",
       "      <td>2441.620117</td>\n",
       "      <td>2428.020020</td>\n",
       "      <td>2434.270020</td>\n",
       "      <td>2434.500000</td>\n",
       "      <td>4.076170e+09</td>\n",
       "      <td>2434.500000</td>\n",
       "      <td>23.190063</td>\n",
       "      <td>6.000000</td>\n",
       "      <td>0.779185</td>\n",
       "      <td>0.827771</td>\n",
       "      <td>0.815504</td>\n",
       "      <td>0.958493</td>\n",
       "      <td>0.000000</td>\n",
       "    </tr>\n",
       "    <tr>\n",
       "      <th>max</th>\n",
       "      <td>3258.139893</td>\n",
       "      <td>3235.530029</td>\n",
       "      <td>3247.229980</td>\n",
       "      <td>3257.850098</td>\n",
       "      <td>1.061781e+10</td>\n",
       "      <td>3257.850098</td>\n",
       "      <td>125.219971</td>\n",
       "      <td>7.000000</td>\n",
       "      <td>1.000000</td>\n",
       "      <td>1.000000</td>\n",
       "      <td>1.000000</td>\n",
       "      <td>1.000000</td>\n",
       "      <td>1.000000</td>\n",
       "    </tr>\n",
       "  </tbody>\n",
       "</table>\n",
       "</div>"
      ],
      "text/plain": [
       "              High          Low         Open        Close        Volume  \\\n",
       "count  2517.000000  2517.000000  2517.000000  2517.000000  2.517000e+03   \n",
       "mean   1971.857815  1952.710315  1962.657448  1963.123451  3.715144e+09   \n",
       "std     590.630866   588.063705   589.469001   589.358946  8.132577e+08   \n",
       "min    1032.949951  1010.909973  1027.650024  1022.580017  1.025000e+09   \n",
       "25%    1390.780029  1373.030029  1382.180054  1385.140015  3.237960e+09   \n",
       "50%    1993.479980  1975.670044  1985.319946  1986.510010  3.587860e+09   \n",
       "75%    2441.620117  2428.020020  2434.270020  2434.500000  4.076170e+09   \n",
       "max    3258.139893  3235.530029  3247.229980  3257.850098  1.061781e+10   \n",
       "\n",
       "         Adj Close            R           NR          NR4          NR6  \\\n",
       "count  2517.000000  2517.000000  2513.000000  2513.000000  2512.000000   \n",
       "mean   1963.123451    19.147500     3.523279     0.379875     0.359534   \n",
       "std     589.358946    13.278299     2.346471     0.417266     0.405246   \n",
       "min    1022.580017     3.680054     0.000000     0.000000     0.000000   \n",
       "25%    1385.140015    10.799927     1.000000     0.000000     0.000000   \n",
       "50%    1986.510010    15.510010     3.000000     0.144839     0.122601   \n",
       "75%    2434.500000    23.190063     6.000000     0.779185     0.827771   \n",
       "max    3257.850098   125.219971     7.000000     1.000000     1.000000   \n",
       "\n",
       "               NR7         DOJI      Hookday  \n",
       "count  2511.000000  2517.000000  2516.000000  \n",
       "mean      0.325428     0.429338     0.060922  \n",
       "std       0.400751     0.470262     0.236023  \n",
       "min       0.000000     0.000000     0.000000  \n",
       "25%       0.000000     0.000000     0.000000  \n",
       "50%       0.000000     0.000000     0.000000  \n",
       "75%       0.815504     0.958493     0.000000  \n",
       "max       1.000000     1.000000     1.000000  "
      ]
     },
     "execution_count": 64,
     "metadata": {},
     "output_type": "execute_result"
    }
   ],
   "source": [
    "inputdata.describe()"
   ]
  },
  {
   "cell_type": "code",
   "execution_count": 65,
   "metadata": {},
   "outputs": [],
   "source": [
    "inputdata['returns'] = np.log(inputdata['Adj Close'].shift(-1)) - np.log(inputdata['Adj Close'])\n",
    "\n",
    "# select days in which we have positive returns in order to find up-trend days\n",
    "inputdata['target'] = inputdata['returns'].apply(lambda x: 1 if x>0 else 0)"
   ]
  },
  {
   "cell_type": "code",
   "execution_count": 66,
   "metadata": {},
   "outputs": [],
   "source": [
    "train = inputdata[['NR4','NR6','NR7','DOJI','Hookday','target']][inputdata.index<'2016']\n",
    "test = inputdata[['NR4','NR6','NR7','DOJI','Hookday','target']][inputdata.index>='2016']\n",
    "\n",
    "train = train.dropna()\n",
    "test = test.dropna()\n",
    "\n",
    "X_train = train.drop(columns=['target'])\n",
    "y_train = train['target']\n",
    "\n",
    "X_test = test.drop(columns=['target'])\n",
    "y_test = test['target']"
   ]
  },
  {
   "cell_type": "code",
   "execution_count": 67,
   "metadata": {},
   "outputs": [],
   "source": [
    "# initialize  evolutionary strategy\n",
    "tpot = TPOTClassifier(generations=100, population_size=50,\n",
    "                         offspring_size=None, mutation_rate=0.9,\n",
    "                         crossover_rate=0.1,\n",
    "                         scoring='accuracy', cv=5,\n",
    "                         subsample=1, n_jobs=1,\n",
    "                         max_time_mins=10, max_eval_time_mins=0.04,\n",
    "                         random_state=random_state, config_dict=None,\n",
    "                         warm_start=False,\n",
    "                         memory=None,\n",
    "                         use_dask=False,\n",
    "                         periodic_checkpoint_folder=None,\n",
    "                         early_stop=500,\n",
    "                         verbosity=2,\n",
    "                         disable_update_check=True)"
   ]
  },
  {
   "cell_type": "code",
   "execution_count": 68,
   "metadata": {
    "scrolled": true
   },
   "outputs": [
    {
     "name": "stdout",
     "output_type": "stream",
     "text": [
      "Warning: xgboost.XGBClassifier is not available and will not be used by TPOT.\n"
     ]
    },
    {
     "data": {
      "application/vnd.jupyter.widget-view+json": {
       "model_id": "6cc9cdf098754209af426a77183ab764",
       "version_major": 2,
       "version_minor": 0
      },
      "text/plain": [
       "HBox(children=(IntProgress(value=0, description='Optimization Progress', max=50, style=ProgressStyle(descripti…"
      ]
     },
     "metadata": {},
     "output_type": "display_data"
    },
    {
     "name": "stdout",
     "output_type": "stream",
     "text": [
      "Generation 1 - Current best internal CV score: 0.56384496124031\n",
      "Generation 2 - Current best internal CV score: 0.56384496124031\n",
      "Generation 3 - Current best internal CV score: 0.5645116279069767\n",
      "Generation 4 - Current best internal CV score: 0.5645116279069767\n",
      "Generation 5 - Current best internal CV score: 0.5645116279069767\n",
      "Generation 6 - Current best internal CV score: 0.5645116279069767\n",
      "Generation 7 - Current best internal CV score: 0.5665094130675526\n",
      "Generation 8 - Current best internal CV score: 0.5678449612403101\n",
      "Generation 9 - Current best internal CV score: 0.5678449612403101\n",
      "Generation 10 - Current best internal CV score: 0.5718316722037653\n",
      "Generation 11 - Current best internal CV score: 0.5724961240310078\n",
      "Generation 12 - Current best internal CV score: 0.5724961240310078\n",
      "Generation 13 - Current best internal CV score: 0.5724961240310078\n",
      "Generation 14 - Current best internal CV score: 0.5724961240310078\n",
      "Generation 15 - Current best internal CV score: 0.5724961240310078\n",
      "Generation 16 - Current best internal CV score: 0.5724961240310078\n",
      "Generation 17 - Current best internal CV score: 0.5724961240310078\n",
      "Generation 18 - Current best internal CV score: 0.5724961240310078\n",
      "Generation 19 - Current best internal CV score: 0.5724961240310078\n",
      "Generation 20 - Current best internal CV score: 0.5724961240310078\n",
      "Generation 21 - Current best internal CV score: 0.5724961240310078\n",
      "Generation 22 - Current best internal CV score: 0.5724961240310078\n",
      "Generation 23 - Current best internal CV score: 0.5744872646733111\n",
      "Generation 24 - Current best internal CV score: 0.5744872646733111\n",
      "Generation 25 - Current best internal CV score: 0.5744872646733111\n",
      "Generation 26 - Current best internal CV score: 0.5744872646733111\n",
      "Generation 27 - Current best internal CV score: 0.5744872646733111\n",
      "Generation 28 - Current best internal CV score: 0.5744872646733111\n",
      "Generation 29 - Current best internal CV score: 0.5744872646733111\n",
      "Generation 30 - Current best internal CV score: 0.5744872646733111\n",
      "Generation 31 - Current best internal CV score: 0.5744872646733111\n",
      "Generation 32 - Current best internal CV score: 0.5744872646733111\n",
      "Generation 33 - Current best internal CV score: 0.5744872646733111\n",
      "Generation 34 - Current best internal CV score: 0.5744872646733111\n",
      "Generation 35 - Current best internal CV score: 0.5744872646733111\n",
      "Generation 36 - Current best internal CV score: 0.5744872646733111\n",
      "Generation 37 - Current best internal CV score: 0.5744872646733111\n",
      "Generation 38 - Current best internal CV score: 0.5744872646733111\n",
      "Generation 39 - Current best internal CV score: 0.5744872646733111\n",
      "Generation 40 - Current best internal CV score: 0.5744872646733112\n",
      "Generation 41 - Current best internal CV score: 0.5744872646733112\n",
      "Generation 42 - Current best internal CV score: 0.5744872646733112\n",
      "Generation 43 - Current best internal CV score: 0.5744872646733112\n",
      "Generation 44 - Current best internal CV score: 0.5744872646733112\n",
      "\n",
      "10.03 minutes have elapsed. TPOT will close down.\n",
      "TPOT closed during evaluation in one generation.\n",
      "WARNING: TPOT may not provide a good pipeline if TPOT is stopped/interrupted in a early generation.\n",
      "\n",
      "\n",
      "TPOT closed prematurely. Will use the current best pipeline.\n",
      "\n",
      "Best pipeline: LinearSVC(PCA(ZeroCount(OneHotEncoder(SGDClassifier(input_matrix, alpha=0.01, eta0=0.01, fit_intercept=True, l1_ratio=0.5, learning_rate=invscaling, loss=modified_huber, penalty=elasticnet, power_t=0.0), minimum_fraction=0.1, sparse=False, threshold=10)), iterated_power=3, svd_solver=randomized), C=15.0, dual=True, loss=squared_hinge, penalty=l2, tol=0.1)\n"
     ]
    },
    {
     "data": {
      "text/plain": [
       "TPOTClassifier(config_dict=None, crossover_rate=0.1, cv=5,\n",
       "               disable_update_check=True, early_stop=500, generations=100,\n",
       "               max_eval_time_mins=0.04, max_time_mins=10, memory=None,\n",
       "               mutation_rate=0.9, n_jobs=1, offspring_size=None,\n",
       "               periodic_checkpoint_folder=None, population_size=50,\n",
       "               random_state=42, scoring='accuracy', subsample=1, template=None,\n",
       "               use_dask=False, verbosity=2, warm_start=False)"
      ]
     },
     "execution_count": 68,
     "metadata": {},
     "output_type": "execute_result"
    },
    {
     "name": "stdout",
     "output_type": "stream",
     "text": [
      "0.5815109343936382\n"
     ]
    }
   ],
   "source": [
    "tpot.fit(X_train, y_train)\n",
    "print(tpot.score(X_test, y_test))\n",
    "tpot.export('tpot_digits_pipeline.py')"
   ]
  },
  {
   "cell_type": "markdown",
   "metadata": {},
   "source": [
    "I set the maximum time, so indeed it only passes through 44 generations rather than 100 as I set."
   ]
  },
  {
   "cell_type": "code",
   "execution_count": 87,
   "metadata": {},
   "outputs": [],
   "source": [
    "# NOTE: Make sure that the outcome column is labeled 'target' in the data file\n",
    "# tpot_data = pd.read_csv('PATH/TO/DATA/FILE', sep='COLUMN_SEPARATOR', dtype=np.float64)\n",
    "# features = tpot_data.drop('target', axis=1)\n",
    "# training_features, testing_features, training_target, testing_target = \\\n",
    "#             train_test_split(features, tpot_data['target'], random_state=42)\n",
    "\n",
    "imputer = SimpleImputer(strategy=\"median\")\n",
    "_ = imputer.fit(X_train)\n",
    "training_features = imputer.transform(X_train)\n",
    "testing_features = imputer.transform(X_test)\n",
    "\n",
    "# Average CV score on the training set was: 0.5744872646733112\n",
    "exported_pipeline = make_pipeline(\n",
    "    StackingEstimator(estimator=GaussianNB()),\n",
    "    KNeighborsClassifier(n_neighbors=76, p=1, weights=\"uniform\")\n",
    ")\n",
    "# Fix random state for all the steps in exported pipeline\n",
    "set_param_recursive(exported_pipeline.steps, 'random_state', random_state)\n",
    "\n",
    "model = exported_pipeline.fit(X_train, y_train)\n",
    "results = exported_pipeline.predict(X_test)"
   ]
  },
  {
   "cell_type": "code",
   "execution_count": 88,
   "metadata": {},
   "outputs": [],
   "source": [
    "temp = X_test.copy()\n",
    "temp['pred'] = results\n",
    "\n",
    "temp['returns'] = inputdata['returns']"
   ]
  },
  {
   "cell_type": "code",
   "execution_count": 89,
   "metadata": {
    "scrolled": false
   },
   "outputs": [
    {
     "data": {
      "text/html": [
       "<div>\n",
       "<style scoped>\n",
       "    .dataframe tbody tr th:only-of-type {\n",
       "        vertical-align: middle;\n",
       "    }\n",
       "\n",
       "    .dataframe tbody tr th {\n",
       "        vertical-align: top;\n",
       "    }\n",
       "\n",
       "    .dataframe thead th {\n",
       "        text-align: right;\n",
       "    }\n",
       "</style>\n",
       "<table border=\"1\" class=\"dataframe\">\n",
       "  <thead>\n",
       "    <tr style=\"text-align: right;\">\n",
       "      <th></th>\n",
       "      <th>NR4</th>\n",
       "      <th>NR6</th>\n",
       "      <th>NR7</th>\n",
       "      <th>DOJI</th>\n",
       "      <th>Hookday</th>\n",
       "      <th>pred</th>\n",
       "      <th>returns</th>\n",
       "    </tr>\n",
       "    <tr>\n",
       "      <th>Date</th>\n",
       "      <th></th>\n",
       "      <th></th>\n",
       "      <th></th>\n",
       "      <th></th>\n",
       "      <th></th>\n",
       "      <th></th>\n",
       "      <th></th>\n",
       "    </tr>\n",
       "  </thead>\n",
       "  <tbody>\n",
       "    <tr>\n",
       "      <th>2016-01-04</th>\n",
       "      <td>0.000000</td>\n",
       "      <td>0.000000</td>\n",
       "      <td>0.000000</td>\n",
       "      <td>0.873104</td>\n",
       "      <td>0.0</td>\n",
       "      <td>1</td>\n",
       "      <td>0.002010</td>\n",
       "    </tr>\n",
       "    <tr>\n",
       "      <th>2016-01-05</th>\n",
       "      <td>0.816880</td>\n",
       "      <td>0.211254</td>\n",
       "      <td>0.211254</td>\n",
       "      <td>0.000000</td>\n",
       "      <td>0.0</td>\n",
       "      <td>1</td>\n",
       "      <td>-0.013202</td>\n",
       "    </tr>\n",
       "    <tr>\n",
       "      <th>2016-01-06</th>\n",
       "      <td>0.000000</td>\n",
       "      <td>0.000000</td>\n",
       "      <td>0.000000</td>\n",
       "      <td>0.892225</td>\n",
       "      <td>0.0</td>\n",
       "      <td>1</td>\n",
       "      <td>-0.023986</td>\n",
       "    </tr>\n",
       "    <tr>\n",
       "      <th>2016-01-07</th>\n",
       "      <td>0.000000</td>\n",
       "      <td>0.000000</td>\n",
       "      <td>0.000000</td>\n",
       "      <td>0.782666</td>\n",
       "      <td>0.0</td>\n",
       "      <td>1</td>\n",
       "      <td>-0.010898</td>\n",
       "    </tr>\n",
       "    <tr>\n",
       "      <th>2016-01-08</th>\n",
       "      <td>0.048934</td>\n",
       "      <td>0.000000</td>\n",
       "      <td>0.000000</td>\n",
       "      <td>0.875444</td>\n",
       "      <td>0.0</td>\n",
       "      <td>1</td>\n",
       "      <td>0.000853</td>\n",
       "    </tr>\n",
       "  </tbody>\n",
       "</table>\n",
       "</div>"
      ],
      "text/plain": [
       "                 NR4       NR6       NR7      DOJI  Hookday  pred   returns\n",
       "Date                                                                       \n",
       "2016-01-04  0.000000  0.000000  0.000000  0.873104      0.0     1  0.002010\n",
       "2016-01-05  0.816880  0.211254  0.211254  0.000000      0.0     1 -0.013202\n",
       "2016-01-06  0.000000  0.000000  0.000000  0.892225      0.0     1 -0.023986\n",
       "2016-01-07  0.000000  0.000000  0.000000  0.782666      0.0     1 -0.010898\n",
       "2016-01-08  0.048934  0.000000  0.000000  0.875444      0.0     1  0.000853"
      ]
     },
     "execution_count": 89,
     "metadata": {},
     "output_type": "execute_result"
    }
   ],
   "source": [
    "temp.head()"
   ]
  },
  {
   "cell_type": "code",
   "execution_count": 90,
   "metadata": {},
   "outputs": [
    {
     "data": {
      "image/png": "[encoded data removed]",
      "text/plain": [
       "<Figure size 720x432 with 1 Axes>"
      ]
     },
     "metadata": {
      "needs_background": "light"
     },
     "output_type": "display_data"
    }
   ],
   "source": [
    "SPX['returns'] = np.log(SPX['Adj Close'].shift(-1)) - np.log(SPX['Adj Close'])\n",
    "_ = (1+ SPX['returns'][SPX.index>='2016']).cumprod().plot(title = 'cumulative returns',figsize=(10,6),label = 'SPX')\n",
    "_ = ((1 + temp.returns * temp.pred).cumprod()).plot(label = 'Strategy')\n",
    "_ = plt.legend()\n"
   ]
  },
  {
   "cell_type": "markdown",
   "metadata": {},
   "source": [
    "## 5. Optimization"
   ]
  },
  {
   "cell_type": "code",
   "execution_count": 95,
   "metadata": {
    "scrolled": true
   },
   "outputs": [
    {
     "name": "stdout",
     "output_type": "stream",
     "text": [
      "Warning: xgboost.XGBClassifier is not available and will not be used by TPOT.\n"
     ]
    },
    {
     "data": {
      "application/vnd.jupyter.widget-view+json": {
       "model_id": "",
       "version_major": 2,
       "version_minor": 0
      },
      "text/plain": [
       "HBox(children=(IntProgress(value=0, description='Optimization Progress', max=50, style=ProgressStyle(descripti…"
      ]
     },
     "metadata": {},
     "output_type": "display_data"
    },
    {
     "name": "stdout",
     "output_type": "stream",
     "text": [
      "Generation 1 - Current best internal CV score: 0.56384496124031\n",
      "Generation 2 - Current best internal CV score: 0.56384496124031\n",
      "Generation 3 - Current best internal CV score: 0.5645116279069767\n",
      "Generation 4 - Current best internal CV score: 0.5645116279069767\n",
      "Generation 5 - Current best internal CV score: 0.5645116279069767\n",
      "Generation 6 - Current best internal CV score: 0.5645116279069767\n",
      "Generation 7 - Current best internal CV score: 0.5665094130675526\n",
      "Generation 8 - Current best internal CV score: 0.5678449612403101\n",
      "Generation 9 - Current best internal CV score: 0.5678449612403101\n",
      "Generation 10 - Current best internal CV score: 0.5718316722037653\n",
      "Generation 11 - Current best internal CV score: 0.5724961240310078\n",
      "Generation 12 - Current best internal CV score: 0.5724961240310078\n",
      "Generation 13 - Current best internal CV score: 0.5724961240310078\n",
      "Generation 14 - Current best internal CV score: 0.5724961240310078\n",
      "Generation 15 - Current best internal CV score: 0.5724961240310078\n",
      "Generation 16 - Current best internal CV score: 0.5724961240310078\n",
      "Generation 17 - Current best internal CV score: 0.5724961240310078\n",
      "Generation 18 - Current best internal CV score: 0.5724961240310078\n",
      "Generation 19 - Current best internal CV score: 0.5724961240310078\n",
      "Generation 20 - Current best internal CV score: 0.5724961240310078\n",
      "Generation 21 - Current best internal CV score: 0.5724961240310078\n",
      "Generation 22 - Current best internal CV score: 0.5724961240310078\n",
      "Generation 23 - Current best internal CV score: 0.5744872646733111\n",
      "Generation 24 - Current best internal CV score: 0.5744872646733111\n",
      "Generation 25 - Current best internal CV score: 0.5744872646733111\n",
      "Generation 26 - Current best internal CV score: 0.5744872646733111\n",
      "Generation 27 - Current best internal CV score: 0.5744872646733111\n",
      "Generation 28 - Current best internal CV score: 0.5744872646733111\n",
      "Generation 29 - Current best internal CV score: 0.5744872646733111\n",
      "Generation 30 - Current best internal CV score: 0.5744872646733111\n",
      "Generation 31 - Current best internal CV score: 0.5744872646733111\n",
      "Generation 32 - Current best internal CV score: 0.5744872646733111\n",
      "Generation 33 - Current best internal CV score: 0.5744872646733111\n",
      "Generation 34 - Current best internal CV score: 0.5744872646733111\n",
      "Generation 35 - Current best internal CV score: 0.5744872646733111\n",
      "Generation 36 - Current best internal CV score: 0.5744872646733111\n",
      "Generation 37 - Current best internal CV score: 0.5744872646733111\n",
      "Generation 38 - Current best internal CV score: 0.5744872646733111\n",
      "Generation 39 - Current best internal CV score: 0.5744872646733111\n",
      "Generation 40 - Current best internal CV score: 0.5744872646733112\n",
      "Generation 41 - Current best internal CV score: 0.5744872646733112\n",
      "Generation 42 - Current best internal CV score: 0.5744872646733112\n",
      "\n",
      "10.00 minutes have elapsed. TPOT will close down.\n",
      "TPOT closed during evaluation in one generation.\n",
      "WARNING: TPOT may not provide a good pipeline if TPOT is stopped/interrupted in a early generation.\n",
      "\n",
      "\n",
      "TPOT closed prematurely. Will use the current best pipeline.\n",
      "\n",
      "Best pipeline: LinearSVC(PCA(ZeroCount(OneHotEncoder(SGDClassifier(input_matrix, alpha=0.01, eta0=0.01, fit_intercept=True, l1_ratio=0.5, learning_rate=invscaling, loss=modified_huber, penalty=elasticnet, power_t=0.0), minimum_fraction=0.1, sparse=False, threshold=10)), iterated_power=3, svd_solver=randomized), C=15.0, dual=True, loss=squared_hinge, penalty=l2, tol=0.1)\n",
      "Warning: xgboost.XGBClassifier is not available and will not be used by TPOT.\n"
     ]
    },
    {
     "data": {
      "application/vnd.jupyter.widget-view+json": {
       "model_id": "",
       "version_major": 2,
       "version_minor": 0
      },
      "text/plain": [
       "HBox(children=(IntProgress(value=0, description='Optimization Progress', max=25, style=ProgressStyle(descripti…"
      ]
     },
     "metadata": {},
     "output_type": "display_data"
    },
    {
     "name": "stdout",
     "output_type": "stream",
     "text": [
      "Generation 1 - Current best internal CV score: 0.5611849390919159\n",
      "Generation 2 - Current best internal CV score: 0.5625182724252491\n",
      "Generation 3 - Current best internal CV score: 0.5625182724252491\n",
      "Generation 4 - Current best internal CV score: 0.56318715393134\n",
      "Generation 5 - Current best internal CV score: 0.5645116279069767\n",
      "Generation 6 - Current best internal CV score: 0.5645116279069767\n",
      "Generation 7 - Current best internal CV score: 0.5645116279069767\n",
      "Generation 8 - Current best internal CV score: 0.5678449612403101\n",
      "Generation 9 - Current best internal CV score: 0.5705027685492802\n",
      "Generation 10 - Current best internal CV score: 0.5705027685492802\n",
      "Generation 11 - Current best internal CV score: 0.5705027685492802\n",
      "Generation 12 - Current best internal CV score: 0.5711672203765227\n",
      "Generation 13 - Current best internal CV score: 0.5711672203765227\n",
      "Generation 14 - Current best internal CV score: 0.5718316722037653\n",
      "Generation 15 - Current best internal CV score: 0.5718316722037653\n",
      "Generation 16 - Current best internal CV score: 0.5738205980066445\n",
      "Generation 17 - Current best internal CV score: 0.5738205980066445\n",
      "Generation 18 - Current best internal CV score: 0.5738205980066445\n",
      "Generation 19 - Current best internal CV score: 0.5738205980066445\n",
      "Generation 20 - Current best internal CV score: 0.5738205980066445\n",
      "Generation 21 - Current best internal CV score: 0.5744894795127353\n",
      "Generation 22 - Current best internal CV score: 0.5744894795127353\n",
      "Generation 23 - Current best internal CV score: 0.5758161683277964\n",
      "Generation 24 - Current best internal CV score: 0.5758161683277964\n",
      "Generation 25 - Current best internal CV score: 0.5758161683277964\n",
      "Generation 26 - Current best internal CV score: 0.5771472868217055\n",
      "Generation 27 - Current best internal CV score: 0.5771472868217055\n",
      "Generation 28 - Current best internal CV score: 0.5771472868217055\n",
      "Generation 29 - Current best internal CV score: 0.5771472868217055\n",
      "Generation 30 - Current best internal CV score: 0.5771472868217055\n",
      "Generation 31 - Current best internal CV score: 0.5771472868217055\n",
      "Generation 32 - Current best internal CV score: 0.5771472868217055\n",
      "Generation 33 - Current best internal CV score: 0.5771472868217055\n",
      "Generation 34 - Current best internal CV score: 0.5771472868217055\n",
      "Generation 35 - Current best internal CV score: 0.5771472868217055\n",
      "Generation 36 - Current best internal CV score: 0.5771472868217055\n",
      "Generation 37 - Current best internal CV score: 0.5771472868217055\n",
      "Generation 38 - Current best internal CV score: 0.5778161683277963\n",
      "Generation 39 - Current best internal CV score: 0.5778161683277963\n",
      "Generation 40 - Current best internal CV score: 0.5778161683277963\n",
      "Generation 41 - Current best internal CV score: 0.5778161683277963\n",
      "Generation 42 - Current best internal CV score: 0.5778161683277963\n",
      "Generation 43 - Current best internal CV score: 0.5778161683277963\n",
      "Generation 44 - Current best internal CV score: 0.5778161683277963\n",
      "Generation 45 - Current best internal CV score: 0.5778161683277963\n",
      "Generation 46 - Current best internal CV score: 0.5778161683277963\n",
      "Generation 47 - Current best internal CV score: 0.5778161683277963\n",
      "Generation 48 - Current best internal CV score: 0.5778161683277963\n",
      "Generation 49 - Current best internal CV score: 0.5778161683277963\n",
      "Generation 50 - Current best internal CV score: 0.5778161683277963\n",
      "\n",
      "Best pipeline: GaussianNB(PolynomialFeatures(LogisticRegression(GaussianNB(PCA(ZeroCount(input_matrix), iterated_power=5, svd_solver=randomized)), C=0.1, dual=False, penalty=l2), degree=2, include_bias=False, interaction_only=False))\n"
     ]
    },
    {
     "data": {
      "text/plain": [
       "GridSearchCV(cv=6, error_score=nan,\n",
       "             estimator=TPOTClassifier(config_dict=None, crossover_rate=0.1,\n",
       "                                      cv=5, disable_update_check=True,\n",
       "                                      early_stop=500, generations=100,\n",
       "                                      max_eval_time_mins=0.04, max_time_mins=10,\n",
       "                                      memory=None, mutation_rate=0.9, n_jobs=1,\n",
       "                                      offspring_size=None,\n",
       "                                      periodic_checkpoint_folder=None,\n",
       "                                      population_size=50, random_state=42,\n",
       "                                      scoring='accuracy', subsample=1,\n",
       "                                      template=None, use_dask=False,\n",
       "                                      verbosity=2, warm_start=False),\n",
       "             iid='deprecated', n_jobs=-1,\n",
       "             param_grid={'generations': [20, 50, 100],\n",
       "                         'max_time_mins': [10, 100],\n",
       "                         'population_size': [15, 25, 50]},\n",
       "             pre_dispatch='2*n_jobs', refit=True, return_train_score=False,\n",
       "             scoring='accuracy', verbose=0)"
      ]
     },
     "execution_count": 95,
     "metadata": {},
     "output_type": "execute_result"
    },
    {
     "name": "stdout",
     "output_type": "stream",
     "text": [
      "grid_search.best_estimator_: TPOTClassifier(config_dict=None, crossover_rate=0.1, cv=5,\n",
      "               disable_update_check=True, early_stop=500, generations=50,\n",
      "               max_eval_time_mins=0.04, max_time_mins=10, memory=None,\n",
      "               mutation_rate=0.9, n_jobs=1, offspring_size=None,\n",
      "               periodic_checkpoint_folder=None, population_size=25,\n",
      "               random_state=42, scoring='accuracy', subsample=1, template=None,\n",
      "               use_dask=False, verbosity=2, warm_start=False)\n",
      "grid_search.best_score_: 0.5618300132802125\n"
     ]
    }
   ],
   "source": [
    "from sklearn.model_selection import GridSearchCV\n",
    "\n",
    "grid_search = GridSearchCV(tpot.fit(X_train, y_train), n_jobs=-1,param_grid={'generations':[20,50,100], \n",
    "                        'population_size':[15,25,50],\n",
    "                         'max_time_mins':[10,100]},cv = 6,scoring='accuracy',verbose=0)\n",
    "grid_search.fit(X_train,y_train)\n",
    "print(\"grid_search.best_estimator_:\",grid_search.best_estimator_)\n",
    "# print(\"grid_search.cv_results_:\",grid_search.cv_results_)\n",
    "print(\"grid_search.best_score_:\",grid_search.best_score_)\n",
    "best_model = grid_search.best_estimator_\n"
   ]
  },
  {
   "cell_type": "markdown",
   "metadata": {},
   "source": [
    "use grid search to find out the best parameter values of number of generation, number of population size, and max time to run. This code takes several hours to finish."
   ]
  },
  {
   "cell_type": "markdown",
   "metadata": {},
   "source": [
    "The result shows that the best one is:\n",
    "\n",
    "grid_search.best_estimator_: TPOTClassifier(config_dict=None, crossover_rate=0.1, cv=5,\n",
    "               disable_update_check=True, early_stop=500, generations=50,\n",
    "               max_eval_time_mins=0.04, max_time_mins=10, memory=None,\n",
    "               mutation_rate=0.9, n_jobs=1, offspring_size=None,\n",
    "               periodic_checkpoint_folder=None, population_size=25,\n",
    "               random_state=42, scoring='accuracy', subsample=1, template=None,\n",
    "               use_dask=False, verbosity=2, warm_start=False)\n",
    "grid_search.best_score_: 0.5618300132802125"
   ]
  },
  {
   "cell_type": "code",
   "execution_count": 96,
   "metadata": {},
   "outputs": [],
   "source": [
    "best_pred = grid_search.predict(X_test)"
   ]
  },
  {
   "cell_type": "code",
   "execution_count": 97,
   "metadata": {},
   "outputs": [],
   "source": [
    "temp2 = X_test.copy()\n",
    "temp2['pred'] = best_pred\n",
    "\n",
    "temp2['returns'] = inputdata['returns']"
   ]
  },
  {
   "cell_type": "code",
   "execution_count": 98,
   "metadata": {
    "scrolled": false
   },
   "outputs": [
    {
     "data": {
      "image/png": "[encoded data removed]",
      "text/plain": [
       "<Figure size 720x432 with 1 Axes>"
      ]
     },
     "metadata": {
      "needs_background": "light"
     },
     "output_type": "display_data"
    }
   ],
   "source": [
    "_ = (1+ SPX['returns'][SPX.index>='2016']).cumprod().plot(title = 'cumulative returns',figsize=(10,6),label = 'SPX')\n",
    "_ = ((1 + temp2.returns * temp2.pred).cumprod()).plot(label = 'Strategy')\n",
    "_ = plt.legend()"
   ]
  },
  {
   "cell_type": "markdown",
   "metadata": {},
   "source": [
    "## 6. Find down-trending days"
   ]
  },
  {
   "cell_type": "code",
   "execution_count": 104,
   "metadata": {},
   "outputs": [],
   "source": [
    "inputdata2 = SPX.copy()\n",
    "inputdata2['NR4'] = memfun_NR(NR(inputdata2,4),4,0.5,2,4)\n",
    "inputdata2['NR6'] = memfun_NR(NR(inputdata2,6),6,1/3,3,6)\n",
    "inputdata2['NR7'] = memfun_NR(NR(inputdata2,7),7,1/3,4,7)\n",
    "\n",
    "inputdata2['DOJI'] = DOJI(inputdata,0.1)\n",
    "\n",
    "inputdata2['Hookday'] = Hookday(inputdata2,kind = 'down')"
   ]
  },
  {
   "cell_type": "code",
   "execution_count": 105,
   "metadata": {},
   "outputs": [],
   "source": [
    "inputdata2['returns'] = np.log(inputdata2['Adj Close'].shift(-1)) - np.log(inputdata2['Adj Close'])\n",
    "\n",
    "# select days in which we have negative returns in order to find down-trend days\n",
    "inputdata2['target'] = inputdata2['returns'].apply(lambda x: 1 if x<0 else 0)"
   ]
  },
  {
   "cell_type": "code",
   "execution_count": 106,
   "metadata": {},
   "outputs": [],
   "source": [
    "train2 = inputdata2[['NR4','NR6','NR7','DOJI','Hookday','target']][inputdata2.index<'2016']\n",
    "test2 = inputdata2[['NR4','NR6','NR7','DOJI','Hookday','target']][inputdata2.index>='2016']\n",
    "\n",
    "train2 = train2.dropna()\n",
    "test2 = test2.dropna()\n",
    "\n",
    "X_train2 = train2.drop(columns=['target'])\n",
    "y_train2 = train2['target']\n",
    "\n",
    "X_test2 = test2.drop(columns=['target'])\n",
    "y_test2 = test2['target']"
   ]
  },
  {
   "cell_type": "code",
   "execution_count": 107,
   "metadata": {},
   "outputs": [],
   "source": [
    "# use the best parameters before\n",
    "tpot2 = TPOTClassifier(generations=50, population_size=25,\n",
    "                         offspring_size=None, mutation_rate=0.9,\n",
    "                         crossover_rate=0.1,\n",
    "                         scoring='accuracy', cv=5,\n",
    "                         subsample=1, n_jobs=1,\n",
    "                         max_time_mins=10, max_eval_time_mins=0.04,\n",
    "                         random_state=random_state, config_dict=None,\n",
    "                         warm_start=False,\n",
    "                         memory=None,\n",
    "                         use_dask=False,\n",
    "                         periodic_checkpoint_folder=None,\n",
    "                         early_stop=500,\n",
    "                         verbosity=2,\n",
    "                         disable_update_check=True)"
   ]
  },
  {
   "cell_type": "code",
   "execution_count": 108,
   "metadata": {
    "scrolled": true
   },
   "outputs": [
    {
     "name": "stdout",
     "output_type": "stream",
     "text": [
      "Warning: xgboost.XGBClassifier is not available and will not be used by TPOT.\n"
     ]
    },
    {
     "data": {
      "application/vnd.jupyter.widget-view+json": {
       "model_id": "",
       "version_major": 2,
       "version_minor": 0
      },
      "text/plain": [
       "HBox(children=(IntProgress(value=0, description='Optimization Progress', max=25, style=ProgressStyle(descripti…"
      ]
     },
     "metadata": {},
     "output_type": "display_data"
    },
    {
     "name": "stdout",
     "output_type": "stream",
     "text": [
      "Generation 1 - Current best internal CV score: 0.5479025470653378\n",
      "Generation 2 - Current best internal CV score: 0.5578648947951275\n",
      "Generation 3 - Current best internal CV score: 0.5578648947951275\n",
      "Generation 4 - Current best internal CV score: 0.5578648947951275\n",
      "Generation 5 - Current best internal CV score: 0.5578648947951275\n",
      "Generation 6 - Current best internal CV score: 0.5578648947951275\n",
      "Generation 7 - Current best internal CV score: 0.5578671096345514\n",
      "Generation 8 - Current best internal CV score: 0.5578671096345514\n",
      "Generation 9 - Current best internal CV score: 0.5578671096345514\n",
      "Generation 10 - Current best internal CV score: 0.5585359911406422\n",
      "Generation 11 - Current best internal CV score: 0.5598582502768549\n",
      "Generation 12 - Current best internal CV score: 0.5598582502768549\n",
      "Generation 13 - Current best internal CV score: 0.5598582502768549\n",
      "Generation 14 - Current best internal CV score: 0.5598582502768549\n",
      "Generation 15 - Current best internal CV score: 0.5618538205980066\n",
      "Generation 16 - Current best internal CV score: 0.5618538205980066\n",
      "Generation 17 - Current best internal CV score: 0.5618538205980066\n",
      "Generation 18 - Current best internal CV score: 0.5618538205980066\n",
      "Generation 19 - Current best internal CV score: 0.5618538205980066\n",
      "Generation 20 - Current best internal CV score: 0.561858250276855\n",
      "Generation 21 - Current best internal CV score: 0.561858250276855\n",
      "Generation 22 - Current best internal CV score: 0.5671915836101883\n",
      "Generation 23 - Current best internal CV score: 0.5671915836101883\n",
      "Generation 24 - Current best internal CV score: 0.5671915836101883\n",
      "Generation 25 - Current best internal CV score: 0.5671915836101883\n",
      "Generation 26 - Current best internal CV score: 0.5671915836101883\n",
      "Generation 27 - Current best internal CV score: 0.5671915836101883\n",
      "Generation 28 - Current best internal CV score: 0.5671915836101883\n",
      "Generation 29 - Current best internal CV score: 0.5671915836101883\n",
      "Generation 30 - Current best internal CV score: 0.5671915836101883\n",
      "Generation 31 - Current best internal CV score: 0.5671915836101883\n",
      "Generation 32 - Current best internal CV score: 0.5698316722037652\n",
      "Generation 33 - Current best internal CV score: 0.5698316722037652\n",
      "Generation 34 - Current best internal CV score: 0.5698316722037652\n",
      "Generation 35 - Current best internal CV score: 0.5698316722037652\n",
      "Generation 36 - Current best internal CV score: 0.5698316722037652\n",
      "Generation 37 - Current best internal CV score: 0.5698316722037652\n",
      "Generation 38 - Current best internal CV score: 0.5698316722037652\n",
      "Generation 39 - Current best internal CV score: 0.5698316722037652\n",
      "Generation 40 - Current best internal CV score: 0.5698316722037652\n",
      "Generation 41 - Current best internal CV score: 0.5704872646733112\n",
      "Generation 42 - Current best internal CV score: 0.5704872646733112\n",
      "Generation 43 - Current best internal CV score: 0.5704872646733112\n",
      "Generation 44 - Current best internal CV score: 0.5704872646733112\n",
      "Generation 45 - Current best internal CV score: 0.5704872646733112\n",
      "Generation 46 - Current best internal CV score: 0.5704872646733112\n",
      "Generation 47 - Current best internal CV score: 0.5704872646733112\n",
      "Generation 48 - Current best internal CV score: 0.5704872646733112\n",
      "Generation 49 - Current best internal CV score: 0.5704872646733112\n",
      "Generation 50 - Current best internal CV score: 0.5704872646733112\n",
      "\n",
      "Best pipeline: DecisionTreeClassifier(ZeroCount(input_matrix), criterion=gini, max_depth=8, min_samples_leaf=5, min_samples_split=16)\n"
     ]
    },
    {
     "data": {
      "text/plain": [
       "TPOTClassifier(config_dict=None, crossover_rate=0.1, cv=5,\n",
       "               disable_update_check=True, early_stop=500, generations=50,\n",
       "               max_eval_time_mins=0.04, max_time_mins=10, memory=None,\n",
       "               mutation_rate=0.9, n_jobs=1, offspring_size=None,\n",
       "               periodic_checkpoint_folder=None, population_size=25,\n",
       "               random_state=42, scoring='accuracy', subsample=1, template=None,\n",
       "               use_dask=False, verbosity=2, warm_start=False)"
      ]
     },
     "execution_count": 108,
     "metadata": {},
     "output_type": "execute_result"
    },
    {
     "name": "stdout",
     "output_type": "stream",
     "text": [
      "0.5636182902584493\n"
     ]
    }
   ],
   "source": [
    "tpot2.fit(X_train2, y_train2)\n",
    "print(tpot2.score(X_test2, y_test2))\n",
    "tpot2.export('tpot_digits_pipeline_down.py')"
   ]
  },
  {
   "cell_type": "code",
   "execution_count": 113,
   "metadata": {},
   "outputs": [
    {
     "data": {
      "text/plain": [
       "Pipeline(memory=None,\n",
       "         steps=[('zerocount', ZeroCount()),\n",
       "                ('decisiontreeclassifier',\n",
       "                 DecisionTreeClassifier(ccp_alpha=0.0, class_weight=None,\n",
       "                                        criterion='gini', max_depth=8,\n",
       "                                        max_features=None, max_leaf_nodes=None,\n",
       "                                        min_impurity_decrease=0.0,\n",
       "                                        min_impurity_split=None,\n",
       "                                        min_samples_leaf=5,\n",
       "                                        min_samples_split=16,\n",
       "                                        min_weight_fraction_leaf=0.0,\n",
       "                                        presort='deprecated', random_state=42,\n",
       "                                        splitter='best'))],\n",
       "         verbose=False)"
      ]
     },
     "execution_count": 113,
     "metadata": {},
     "output_type": "execute_result"
    }
   ],
   "source": [
    "# Average CV score on the training set was: 0.5704872646733112\n",
    "exported_pipeline2 = make_pipeline(\n",
    "    ZeroCount(),\n",
    "    DecisionTreeClassifier(criterion=\"gini\", max_depth=8, min_samples_leaf=5, min_samples_split=16)\n",
    ")\n",
    "# Fix random state for all the steps in exported pipeline\n",
    "set_param_recursive(exported_pipeline2.steps, 'random_state', random_state)\n",
    "\n",
    "exported_pipeline2.fit(X_train2, y_train2)\n",
    "results2 = exported_pipeline2.predict(X_test2)"
   ]
  },
  {
   "cell_type": "code",
   "execution_count": 142,
   "metadata": {
    "scrolled": false
   },
   "outputs": [
    {
     "data": {
      "image/png": "[encoded data removed]",
      "text/plain": [
       "<Figure size 720x432 with 1 Axes>"
      ]
     },
     "metadata": {
      "needs_background": "light"
     },
     "output_type": "display_data"
    }
   ],
   "source": [
    "temp2 = X_test2.copy()\n",
    "temp2['pred_down'] = results2\n",
    "\n",
    "temp2['returns'] = inputdata2['returns']\n",
    "\n",
    "_ = (1+ SPX['returns'][SPX.index>='2016']).cumprod().plot(title = 'cumulative returns (sell at down-trend day)',\\\n",
    "                                                          figsize=(10,6),label = 'SPX')\n",
    "_ = ((1 - temp2.returns * temp2.pred_down).cumprod()).plot(label = 'Strategy')\n",
    "_ = plt.legend()"
   ]
  },
  {
   "cell_type": "markdown",
   "metadata": {},
   "source": [
    "We can see that although the cumulative return is lower than S&P 500 index, but the strategy makes profit when the market is going down. That means it figures out the down-trend signal to some aspect."
   ]
  },
  {
   "cell_type": "markdown",
   "metadata": {},
   "source": [
    "## 7. Combine two strategies"
   ]
  },
  {
   "cell_type": "code",
   "execution_count": 152,
   "metadata": {
    "scrolled": false
   },
   "outputs": [
    {
     "data": {
      "image/png": "[encoded data removed]",
      "text/plain": [
       "<Figure size 720x432 with 1 Axes>"
      ]
     },
     "metadata": {
      "needs_background": "light"
     },
     "output_type": "display_data"
    }
   ],
   "source": [
    "combine = pd.concat([temp[['pred','returns']],temp2['pred_down']],axis = 1)\n",
    "\n",
    "def new_pred(a,b):\n",
    "    if a == 0 and b == 1:\n",
    "        return -1\n",
    "    elif a == 1 and b == 1:\n",
    "        return 0\n",
    "    elif a ==0 and b == 0:\n",
    "        return 0\n",
    "    elif a == 1 and b == 0:\n",
    "        return 1\n",
    "\n",
    "combine['new_pred'] = combine.apply(lambda x:new_pred(x.pred,x.pred_down),axis = 1)\n",
    "\n",
    "_ = (1+ SPX['returns'][SPX.index>='2016']).cumprod().plot(title = 'cumulative returns (combined strategy)',\\\n",
    "                                                          figsize=(10,6),label = 'SPX')\n",
    "_ = ((1 + combine.returns * combine.new_pred).cumprod()).plot(label = 'Combined Strategy')\n",
    "_ = plt.legend()"
   ]
  },
  {
   "cell_type": "code",
   "execution_count": 151,
   "metadata": {
    "scrolled": true
   },
   "outputs": [
    {
     "name": "stdout",
     "output_type": "stream",
     "text": [
      "Done !\n"
     ]
    }
   ],
   "source": [
    "print('Done !')"
   ]
  }
 ],
 "metadata": {
  "kernelspec": {
   "display_name": "Python 3",
   "language": "python",
   "name": "python3"
  },
  "language_info": {
   "codemirror_mode": {
    "name": "ipython",
    "version": 3
   },
   "file_extension": ".py",
   "mimetype": "text/x-python",
   "name": "python",
   "nbconvert_exporter": "python",
   "pygments_lexer": "ipython3",
   "version": "3.7.4"
  }
 },
 "nbformat": 4,
 "nbformat_minor": 2
}
